{
 "cells": [
  {
   "cell_type": "code",
   "execution_count": null,
   "id": "28cf7ceb",
   "metadata": {},
   "outputs": [],
   "source": [
    "import pandas as pd\n",
    "\n",
    "melbourne_file_path = '../data/melb_data.csv'\n",
    "\n",
    "melbourne_data = pd.read_csv(melbourne_file_path)\n",
    "print(melbourne_data.shape)\n",
    "print(melbourne_data.columns)"
   ]
  },
  {
   "cell_type": "code",
   "execution_count": null,
   "id": "60f75715",
   "metadata": {},
   "outputs": [],
   "source": [
    "melbourne_data = melbourne_data.dropna(axis=0)\n",
    "print(melbourne_data.shape)\n",
    "print(melbourne_data.columns)\n",
    "y = melbourne_data.Price\n",
    "print(\"y\", y)\n",
    "\n",
    "melbourne_features = ['Rooms', 'Bathroom', 'Landsize', 'Lattitude', 'Longtitude']\n",
    "X = melbourne_data[melbourne_features]\n",
    "print('x description', X.describe())\n",
    "print('x head', X.head())"
   ]
  },
  {
   "cell_type": "code",
   "execution_count": null,
   "id": "a711cd35",
   "metadata": {},
   "outputs": [],
   "source": [
    "from sklearn.model_selection import train_test_split\n",
    "from sklearn.tree import DecisionTreeRegressor\n",
    "\n",
    "# Define model. Specify a number for random_state to ensure same results each run\n",
    "melbourne_model = DecisionTreeRegressor(random_state=1)\n",
    "\n",
    "train_X, val_X, train_y, val_y = train_test_split(X, y, random_state = 0)\n",
    "\n",
    "# Fit model\n",
    "melbourne_model.fit(train_X, train_y)"
   ]
  },
  {
   "cell_type": "code",
   "execution_count": null,
   "id": "26d45ebb",
   "metadata": {},
   "outputs": [],
   "source": [
    "from sklearn.metrics import mean_absolute_error\n",
    "\n",
    "\n",
    "print(\"Making predictions for the following 5 houses:\")\n",
    "print(X.head())\n",
    "print(\"The predictions are\")\n",
    "predicted_home_prices = melbourne_model.predict(val_X)\n",
    "print(\"top value: \", val_y[0:5], predicted_home_prices[0:5])\n",
    "mean_absolute_error(val_y, predicted_home_prices)"
   ]
  },
  {
   "cell_type": "code",
   "execution_count": null,
   "id": "af579a30",
   "metadata": {},
   "outputs": [],
   "source": [
    "import pandas as pd\n",
    "from sklearn.impute import SimpleImputer\n",
    "from sklearn.model_selection import train_test_split\n",
    "from sklearn.tree import DecisionTreeRegressor\n",
    "from sklearn.metrics import mean_absolute_error\n",
    "\n",
    "path = '../data/melb_data.csv'\n",
    "_data = pd.read_csv(path)\n",
    "print(\"shape\", _data.shape)\n",
    "print(\"column\", _data.columns)\n",
    "\n",
    "_feature = [\"Rooms\", \"Bathroom\", \"Landsize\", \"Lattitude\", \"Longtitude\"]\n",
    "X = _data[_feature]\n",
    "print(\"X columns description\", X.columns)\n",
    "y = _data.Price\n",
    "\n",
    "train_x, val_x, train_y, val_y = train_test_split(X, y, train_size=0.8, test_size=0.2, random_state=0)\n",
    "\n",
    "model = DecisionTreeRegressor(random_state=1)\n",
    "cols_with_missing = [col for col in train_x.columns\n",
    "                     if train_x[col].isnull().any()]\n",
    "\n",
    "for col in cols_with_missing:\n",
    "    train_x[col + '_was_missing'] = train_x[col].isnull()\n",
    "    val_x[col + '_was_missing'] = val_x[col].isnull()\n",
    "\n",
    "my_imputer = SimpleImputer()\n",
    "imputed_X_train = pd.DataFrame(my_imputer.fit_transform(train_x))\n",
    "imputed_X_valid = pd.DataFrame(my_imputer.transform(val_x))\n",
    "\n",
    "model.fit(imputed_X_train, train_y)\n",
    "prediction = model.predict(imputed_X_valid)\n",
    "\n",
    "print(\"evaluation: \", mean_absolute_error(val_y, prediction))\n"
   ]
  },
  {
   "cell_type": "code",
   "execution_count": null,
   "id": "12eb5f60",
   "metadata": {},
   "outputs": [],
   "source": [
    "train_x, val_x, train_y, val_y = train_test_split(_data, y, train_size=0.8, test_size=0.2, random_state=0)\n",
    "\n",
    "low_cardinality_cols = [cname for cname in train_x.columns if train_x[cname].nunique() < 10 and \n",
    "                        train_x[cname].dtype == \"object\"]\n",
    "\n",
    "print('low_cardinality_cols', low_cardinality_cols)\n",
    "\n",
    "numerical_cols = [cname for cname in train_x.columns if train_x[cname].dtype in ['int64', 'float64']]\n",
    "\n",
    "print('numerical_cols', numerical_cols)\n",
    "\n",
    "# Keep selected columns only\n",
    "my_cols = low_cardinality_cols + numerical_cols\n",
    "print('my_cols', my_cols)\n",
    "X_train = train_x[my_cols].copy()\n",
    "X_valid = val_x[my_cols].copy()\n",
    "\n",
    "print(\"----------\")\n",
    "print(_data.head())\n",
    "print('----------')\n",
    "\n",
    "s = (X_train.dtypes == 'object')\n",
    "print('ssss', s)\n",
    "object_cols = list(s[s].index)\n",
    "\n",
    "print(\"Categorical variables:\")\n",
    "print(object_cols)\n"
   ]
  },
  {
   "cell_type": "code",
   "execution_count": null,
   "id": "235ba8b4",
   "metadata": {},
   "outputs": [],
   "source": [
    "from sklearn.ensemble import RandomForestRegressor\n",
    "from sklearn.metrics import mean_absolute_error\n",
    "\n",
    "# Function for comparing different approaches\n",
    "def score_dataset(X_train, X_valid, y_train, y_valid):\n",
    "    model = RandomForestRegressor(n_estimators=100, random_state=0)\n",
    "    model.fit(X_train, y_train)\n",
    "    preds = model.predict(X_valid)\n",
    "    return mean_absolute_error(y_valid, preds)"
   ]
  },
  {
   "cell_type": "code",
   "execution_count": null,
   "id": "ea6b46de",
   "metadata": {},
   "outputs": [],
   "source": [
    "# Score from Approach 1 (Drop Categorical Variables)\n",
    "\n",
    "drop_X_train = X_train.select_dtypes(exclude=['object'])\n",
    "drop_X_valid = X_valid.select_dtypes(exclude=['object'])\n",
    "\n",
    "print(\"MAE from Approach 1 (Drop categorical variables):\")\n",
    "print(score_dataset(drop_X_train, drop_X_valid, train_y, val_y))"
   ]
  },
  {
   "cell_type": "code",
   "execution_count": null,
   "id": "f0e19028",
   "metadata": {},
   "outputs": [],
   "source": [
    "from sklearn.preprocessing import OrdinalEncoder\n",
    "\n",
    "# Make copy to avoid changing original data \n",
    "label_X_train = X_train.copy()\n",
    "label_X_valid = X_valid.copy()\n",
    "\n",
    "# Apply ordinal encoder to each column with categorical data\n",
    "ordinal_encoder = OrdinalEncoder()\n",
    "label_X_train[object_cols] = ordinal_encoder.fit_transform(X_train[object_cols])\n",
    "label_X_valid[object_cols] = ordinal_encoder.transform(X_valid[object_cols])\n",
    "\n",
    "print(\"MAE from Approach 2 (Ordinal Encoding):\") \n",
    "print(score_dataset(label_X_train, label_X_valid, train_y, val_y))"
   ]
  },
  {
   "cell_type": "code",
   "execution_count": null,
   "id": "6d74b6a4",
   "metadata": {},
   "outputs": [],
   "source": [
    "from sklearn.preprocessing import OneHotEncoder\n",
    "\n",
    "# Apply one-hot encoder to each column with categorical data\n",
    "OH_encoder = OneHotEncoder(handle_unknown='ignore', sparse_output=False)\n",
    "OH_cols_train = pd.DataFrame(OH_encoder.fit_transform(X_train[object_cols]))\n",
    "OH_cols_valid = pd.DataFrame(OH_encoder.transform(X_valid[object_cols]))\n",
    "\n",
    "# One-hot encoding removed index; put it back\n",
    "OH_cols_train.index = X_train.index\n",
    "OH_cols_valid.index = X_valid.index\n",
    "\n",
    "# Remove categorical columns (will replace with one-hot encoding)\n",
    "num_X_train = X_train.drop(object_cols, axis=1)\n",
    "num_X_valid = X_valid.drop(object_cols, axis=1)\n",
    "\n",
    "# Add one-hot encoded columns to numerical features\n",
    "OH_X_train = pd.concat([num_X_train, OH_cols_train], axis=1)\n",
    "OH_X_valid = pd.concat([num_X_valid, OH_cols_valid], axis=1)\n",
    "\n",
    "# Ensure all columns have string type\n",
    "OH_X_train.columns = OH_X_train.columns.astype(str)\n",
    "OH_X_valid.columns = OH_X_valid.columns.astype(str)\n",
    "\n",
    "print(\"MAE from Approach 3 (One-Hot Encoding):\") \n",
    "print(score_dataset(OH_X_train, OH_X_valid, train_y, val_y))"
   ]
  }
 ],
 "metadata": {
  "kernelspec": {
   "display_name": "venv",
   "language": "python",
   "name": "python3"
  },
  "language_info": {
   "codemirror_mode": {
    "name": "ipython",
    "version": 3
   },
   "file_extension": ".py",
   "mimetype": "text/x-python",
   "name": "python",
   "nbconvert_exporter": "python",
   "pygments_lexer": "ipython3",
   "version": "3.12.4"
  }
 },
 "nbformat": 4,
 "nbformat_minor": 5
}
