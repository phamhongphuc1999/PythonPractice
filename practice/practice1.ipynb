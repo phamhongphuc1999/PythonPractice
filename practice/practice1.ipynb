{
 "cells": [
  {
   "cell_type": "code",
   "execution_count": null,
   "id": "28cf7ceb",
   "metadata": {},
   "outputs": [],
   "source": [
    "import pandas as pd\n",
    "\n",
    "melbourne_file_path = '../data/melb_data.csv'\n",
    "\n",
    "melbourne_data = pd.read_csv(melbourne_file_path)\n",
    "print(melbourne_data.shape)\n",
    "print(melbourne_data.columns)"
   ]
  },
  {
   "cell_type": "code",
   "execution_count": null,
   "id": "60f75715",
   "metadata": {},
   "outputs": [],
   "source": [
    "melbourne_data = melbourne_data.dropna(axis=0)\n",
    "print(melbourne_data.shape)\n",
    "print(melbourne_data.columns)\n",
    "y = melbourne_data.Price\n",
    "print(\"y\", y)\n",
    "\n",
    "melbourne_features = ['Rooms', 'Bathroom', 'Landsize', 'Lattitude', 'Longtitude']\n",
    "X = melbourne_data[melbourne_features]\n",
    "print('x description', X.describe())\n",
    "print('x head', X.head())"
   ]
  },
  {
   "cell_type": "code",
   "execution_count": null,
   "id": "a711cd35",
   "metadata": {},
   "outputs": [],
   "source": [
    "from sklearn.model_selection import train_test_split\n",
    "from sklearn.tree import DecisionTreeRegressor\n",
    "\n",
    "# Define model. Specify a number for random_state to ensure same results each run\n",
    "melbourne_model = DecisionTreeRegressor(random_state=1)\n",
    "\n",
    "train_X, val_X, train_y, val_y = train_test_split(X, y, random_state = 0)\n",
    "\n",
    "# Fit model\n",
    "melbourne_model.fit(train_X, train_y)"
   ]
  },
  {
   "cell_type": "code",
   "execution_count": null,
   "id": "26d45ebb",
   "metadata": {},
   "outputs": [],
   "source": [
    "from sklearn.metrics import mean_absolute_error\n",
    "\n",
    "\n",
    "print(\"Making predictions for the following 5 houses:\")\n",
    "print(X.head())\n",
    "print(\"The predictions are\")\n",
    "predicted_home_prices = melbourne_model.predict(val_X)\n",
    "print(\"top value: \", val_y[0:5], predicted_home_prices[0:5])\n",
    "mean_absolute_error(val_y, predicted_home_prices)"
   ]
  }
 ],
 "metadata": {
  "kernelspec": {
   "display_name": "venv",
   "language": "python",
   "name": "python3"
  },
  "language_info": {
   "codemirror_mode": {
    "name": "ipython",
    "version": 3
   },
   "file_extension": ".py",
   "mimetype": "text/x-python",
   "name": "python",
   "nbconvert_exporter": "python",
   "pygments_lexer": "ipython3",
   "version": "3.12.4"
  }
 },
 "nbformat": 4,
 "nbformat_minor": 5
}
