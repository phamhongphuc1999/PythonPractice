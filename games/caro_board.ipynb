{
 "cells": [
  {
   "cell_type": "code",
   "execution_count": 7,
   "id": "ad1bb1c6",
   "metadata": {},
   "outputs": [
    {
     "name": "stdout",
     "output_type": "stream",
     "text": [
      "--------------------------------\n",
      "\u001b[91m0\u001b[0m \u001b[91m0\u001b[0m 2 \u001b[91m0\u001b[0m 2 2 2 2 2 2 \n",
      "2 \u001b[92m1\u001b[0m 2 2 2 2 2 2 2 2 \n",
      "2 2 \u001b[92m1\u001b[0m 2 2 2 2 2 2 2 \n",
      "2 2 2 \u001b[92m1\u001b[0m 2 2 2 2 2 2 \n",
      "2 2 2 2 2 2 2 2 2 2 \n",
      "2 2 2 2 2 2 2 2 2 2 \n",
      "2 2 2 2 2 2 2 2 2 2 \n",
      "2 2 2 2 2 2 2 2 2 2 \n",
      "2 2 2 2 2 2 2 2 2 2 \n",
      "2 2 2 2 2 2 2 2 2 2 \n",
      "--------------------------------\n",
      "Player 1 won!\n"
     ]
    }
   ],
   "source": [
    "from utils import cls, draw_matrix\n",
    "from tictactoe.tictactoe import TicTacToe\n",
    "\n",
    "_size = 10\n",
    "game = TicTacToe(n=_size)\n",
    "state = game.initial_state\n",
    "\n",
    "valid_moves = _size * _size\n",
    "won = False\n",
    "current_player = 0\n",
    "while not won and valid_moves > 0:\n",
    "  print(\"won\", won)\n",
    "  row = input(f\"Enter row for player {current_player}: \")\n",
    "  column = input(f\"Enter column for player {current_player}: \")\n",
    "  cls()\n",
    "  _move = int(row) * _size + int(column)\n",
    "  state, won = game.move(state, _move, current_player)\n",
    "  draw_matrix(game.convert_mcts_state_to_list_state(state))\n",
    "  if won:\n",
    "    print(f\"Player {current_player} won!\")\n",
    "  valid_moves = len(game.possible_moves(state))\n",
    "  current_player = 1 - current_player\n",
    "\n",
    "if valid_moves == 0:\n",
    "  print(\"It's a draw\")\n"
   ]
  },
  {
   "cell_type": "code",
   "execution_count": null,
   "id": "48d0e0e4",
   "metadata": {},
   "outputs": [],
   "source": [
    "import numpy as np\n",
    "import torch\n",
    "from utils import cls, draw_matrix\n",
    "from model import Net\n",
    "from mcts.mcts import MCTS\n",
    "from tictactoe.tictactoe import TicTacToe\n",
    "import config as cfg\n",
    "\n",
    "_size = 3\n",
    "game = TicTacToe(n=_size)\n",
    "mcts_store = MCTS(game)\n",
    "state = game.initial_state\n",
    "\n",
    "model = Net(input_shape=game.obs_shape, actions_n=game.action_space)\n",
    "model.load_state_dict(torch.load(\n",
    "            'trained/trained_tictactoe/best_005_00900.dat', map_location=lambda storage, loc: storage))\n",
    "\n",
    "won = False\n",
    "valid_moves = _size * _size\n",
    "\n",
    "while not won and valid_moves > 0:\n",
    "  row = input(\"Enter row: \")\n",
    "  column = input(\"Enter column: \")\n",
    "  cls()\n",
    "  _move = int(row) * _size + int(column)\n",
    "  state, won = game.move(state, _move, 0)\n",
    "  draw_matrix(game.convert_mcts_state_to_list_state(state))\n",
    "  if won:\n",
    "    print(\"You won!\")\n",
    "  valid_moves = len(game.possible_moves(state))\n",
    "  if valid_moves == 0:\n",
    "    break\n",
    "\n",
    "  mcts_store.search_batch(\n",
    "              cfg.BOT_MCTS_SEARCHES, cfg.BOT_MCTS_BATCH_SIZE, state, 1, model)\n",
    "  probs, values = mcts_store.get_policy_value(state, tau=0)\n",
    "  action = np.random.choice(game.action_space, p=probs)\n",
    "  state, won = game.move(state, action, 1)\n",
    "  draw_matrix(game.convert_mcts_state_to_list_state(state))\n",
    "  if won:\n",
    "    print(\"You lose!!!\")\n",
    "  valid_moves = len(game.possible_moves(state))\n",
    "if valid_moves == 0:\n",
    "  print(\"It's a draw\")\n"
   ]
  }
 ],
 "metadata": {
  "kernelspec": {
   "display_name": "venv",
   "language": "python",
   "name": "python3"
  },
  "language_info": {
   "codemirror_mode": {
    "name": "ipython",
    "version": 3
   },
   "file_extension": ".py",
   "mimetype": "text/x-python",
   "name": "python",
   "nbconvert_exporter": "python",
   "pygments_lexer": "ipython3",
   "version": "3.12.4"
  }
 },
 "nbformat": 4,
 "nbformat_minor": 5
}
