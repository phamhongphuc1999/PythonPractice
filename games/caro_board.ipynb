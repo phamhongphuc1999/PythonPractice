{
 "cells": [
  {
   "cell_type": "code",
   "execution_count": null,
   "id": "ad1bb1c6",
   "metadata": {},
   "outputs": [],
   "source": [
    "from tictactoe.tictactoe import TicTacToe\n",
    "\n",
    "\n",
    "caro_board = TicTacToe()\n",
    "board = caro_board.initial_state\n",
    "board, won = caro_board.move(board, 0, 0)\n",
    "print(\"caro_board.convert_mcts_state_to_list_state(board)\", caro_board.convert_mcts_state_to_list_state(board), won)\n",
    "board, won = caro_board.move(board, 1, 1)\n",
    "print(\"caro_board.convert_mcts_state_to_list_state(board)\", caro_board.convert_mcts_state_to_list_state(board), won)\n",
    "board, won = caro_board.move(board, 3, 0)\n",
    "print(\"caro_board.convert_mcts_state_to_list_state(board)\", caro_board.convert_mcts_state_to_list_state(board), won)\n",
    "board, won = caro_board.move(board, 5, 1)\n",
    "print(\"caro_board.convert_mcts_state_to_list_state(board)\", caro_board.convert_mcts_state_to_list_state(board), won)\n",
    "board, won = caro_board.move(board, 6, 0)\n",
    "print(\"caro_board.convert_mcts_state_to_list_state(board)\", caro_board.convert_mcts_state_to_list_state(board), won)"
   ]
  },
  {
   "cell_type": "code",
   "execution_count": null,
   "id": "48d0e0e4",
   "metadata": {},
   "outputs": [],
   "source": [
    "import numpy as np\n",
    "import torch\n",
    "from utils import cls, draw_matrix\n",
    "from model import Net\n",
    "from mcts.mcts import MCTS\n",
    "from tictactoe.tictactoe import TicTacToe\n",
    "import config as cfg\n",
    "\n",
    "_size = 3\n",
    "game = TicTacToe(n=_size)\n",
    "mcts_store = MCTS(game)\n",
    "state = game.initial_state\n",
    "\n",
    "model = Net(input_shape=game.obs_shape, actions_n=game.action_space)\n",
    "model.load_state_dict(torch.load(\n",
    "            'trained/trained_tictactoe/best_005_00900.dat', map_location=lambda storage, loc: storage))\n",
    "\n",
    "won = False\n",
    "valid_moves = _size * _size\n",
    "\n",
    "while not won or valid_moves > 0:\n",
    "  row = input(\"Enter row: \")\n",
    "  column = input(\"Enter column: \")\n",
    "  cls()\n",
    "  _move = int(row) * _size + int(column)\n",
    "  state, won = game.move(state, _move, 0)\n",
    "  draw_matrix(game.convert_mcts_state_to_list_state(state))\n",
    "  if won:\n",
    "    print(\"You won!\")\n",
    "  valid_moves = len(game.possible_moves(state))\n",
    "  if valid_moves == 0:\n",
    "    break\n",
    "\n",
    "  mcts_store.search_batch(\n",
    "              cfg.BOT_MCTS_SEARCHES, cfg.BOT_MCTS_BATCH_SIZE, state, 1, model)\n",
    "  probs, values = mcts_store.get_policy_value(state, tau=0)\n",
    "  action = np.random.choice(game.action_space, p=probs)\n",
    "  state, won = game.move(state, action, 1)\n",
    "  draw_matrix(game.convert_mcts_state_to_list_state(state))\n",
    "  if won:\n",
    "    print(\"You lose!!!\")\n",
    "  valid_moves = len(game.possible_moves(state))\n",
    "if valid_moves == 0:\n",
    "  print(\"It's a draw\")\n"
   ]
  }
 ],
 "metadata": {
  "kernelspec": {
   "display_name": "venv",
   "language": "python",
   "name": "python3"
  },
  "language_info": {
   "codemirror_mode": {
    "name": "ipython",
    "version": 3
   },
   "file_extension": ".py",
   "mimetype": "text/x-python",
   "name": "python",
   "nbconvert_exporter": "python",
   "pygments_lexer": "ipython3",
   "version": "3.12.4"
  }
 },
 "nbformat": 4,
 "nbformat_minor": 5
}
