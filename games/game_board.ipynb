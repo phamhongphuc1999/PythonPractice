{
 "cells": [
  {
   "cell_type": "code",
   "execution_count": null,
   "id": "fad7e403",
   "metadata": {},
   "outputs": [],
   "source": [
    "from game_board import GameBoard\n",
    "\n",
    "\n",
    "board = GameBoard(number_of_rows=3, number_of_columns=3, number_to_win=3)\n",
    "is_over = board.move(0)\n",
    "if not is_over:\n",
    "  is_over = board.move(3)\n",
    "if not is_over:\n",
    "  is_over = board.move(1)\n",
    "if not is_over:\n",
    "  is_over = board.move(6)\n",
    "if not is_over:\n",
    "  is_over = board.move(2)\n",
    "print(board)\n",
    "board.print_win_state()"
   ]
  },
  {
   "cell_type": "code",
   "execution_count": null,
   "id": "507d0259",
   "metadata": {},
   "outputs": [],
   "source": [
    "# play random game\n",
    "from utils.caro_play_simulation import CaroPlaySimulation\n",
    "\n",
    "CaroPlaySimulation.play_random_game()"
   ]
  },
  {
   "cell_type": "code",
   "execution_count": null,
   "id": "9e9176e6",
   "metadata": {},
   "outputs": [],
   "source": [
    "# play game\n",
    "from utils.caro_play_simulation import CaroPlaySimulation\n",
    "\n",
    "CaroPlaySimulation.play_game()"
   ]
  },
  {
   "cell_type": "code",
   "execution_count": null,
   "id": "a0a38638",
   "metadata": {},
   "outputs": [],
   "source": [
    "# play mcts vs mcts\n",
    "from utils.caro_play_simulation import CaroPlaySimulation\n",
    "\n",
    "CaroPlaySimulation.play_mcts_game()"
   ]
  },
  {
   "cell_type": "code",
   "execution_count": null,
   "id": "9e254fb2",
   "metadata": {},
   "outputs": [],
   "source": [
    "from caro_predictor import CaroPredictor\n",
    "from game_board import GameBoard\n",
    "\n",
    "number_of_rows = 3\n",
    "number_of_columns = 3\n",
    "\n",
    "board = GameBoard(number_of_rows=number_of_rows, number_of_columns=number_of_columns, number_to_win=3)\n",
    "ai_player = CaroPredictor(10, \"trained/caronet_weights_1760763011.pth\")\n",
    "\n",
    "board.move(0)\n",
    "masked_policy, value, move, percent = ai_player.evaluate(board)\n",
    "print(\"move: \",value, move, percent)\n",
    "for i in range(0, number_of_rows):\n",
    "  for j in range(0, number_of_columns):\n",
    "    print(masked_policy[i * number_of_columns + j])\n",
    "  print('\\n')\n",
    "\n",
    "print(\"masked_policy: \", masked_policy)"
   ]
  },
  {
   "cell_type": "code",
   "execution_count": 1,
   "id": "3c2500ab",
   "metadata": {},
   "outputs": [
    {
     "name": "stdout",
     "output_type": "stream",
     "text": [
      "=== Caro (3x3) Demo: MCTS vs Random ===\n",
      "--------------------------\n",
      " .  .  . \n",
      " .  .  . \n",
      " .  . \u001b[31m1\u001b[0m \n",
      "--------------------------\n",
      "\n"
     ]
    },
    {
     "ename": "ValueError",
     "evalue": "invalid literal for int() with base 10: ''",
     "output_type": "error",
     "traceback": [
      "\u001b[31m---------------------------------------------------------------------------\u001b[39m",
      "\u001b[31mValueError\u001b[39m                                Traceback (most recent call last)",
      "\u001b[36mCell\u001b[39m\u001b[36m \u001b[39m\u001b[32mIn[1]\u001b[39m\u001b[32m, line 4\u001b[39m\n\u001b[32m      1\u001b[39m \u001b[38;5;66;03m# play game with AI\u001b[39;00m\n\u001b[32m      2\u001b[39m \u001b[38;5;28;01mfrom\u001b[39;00m\u001b[38;5;250m \u001b[39m\u001b[34;01mutils\u001b[39;00m\u001b[34;01m.\u001b[39;00m\u001b[34;01mcaro_play_simulation\u001b[39;00m\u001b[38;5;250m \u001b[39m\u001b[38;5;28;01mimport\u001b[39;00m CaroPlaySimulation\n\u001b[32m----> \u001b[39m\u001b[32m4\u001b[39m \u001b[43mCaroPlaySimulation\u001b[49m\u001b[43m.\u001b[49m\u001b[43mplay_game\u001b[49m\u001b[43m(\u001b[49m\u001b[43msize\u001b[49m\u001b[43m=\u001b[49m\u001b[32;43m10\u001b[39;49m\u001b[43m,\u001b[49m\u001b[43m \u001b[49m\u001b[43mtrained_model_path\u001b[49m\u001b[43m=\u001b[49m\u001b[33;43m\"\u001b[39;49m\u001b[33;43mtrained/caronet_weights_1760763011.pth\u001b[39;49m\u001b[33;43m\"\u001b[39;49m\u001b[43m)\u001b[49m\n",
      "\u001b[36mFile \u001b[39m\u001b[32m~/Documents/personal/PythonPractice/games/utils/caro_play_simulation.py:52\u001b[39m, in \u001b[36mCaroPlaySimulation.play_game\u001b[39m\u001b[34m(number_of_rows, number_of_columns, number_to_win, num_simulations, size, trained_model_path)\u001b[39m\n\u001b[32m     50\u001b[39m     \u001b[38;5;28;01mbreak\u001b[39;00m\n\u001b[32m     51\u001b[39m \u001b[38;5;28;01melse\u001b[39;00m:\n\u001b[32m---> \u001b[39m\u001b[32m52\u001b[39m   row = \u001b[38;5;28;43mint\u001b[39;49m\u001b[43m(\u001b[49m\u001b[38;5;28;43minput\u001b[39;49m\u001b[43m(\u001b[49m\u001b[33;43mf\u001b[39;49m\u001b[33;43m\"\u001b[39;49m\u001b[33;43mPlayer \u001b[39;49m\u001b[38;5;132;43;01m{\u001b[39;49;00m\u001b[43mboard\u001b[49m\u001b[43m.\u001b[49m\u001b[43mcurrent_player\u001b[49m\u001b[38;5;132;43;01m}\u001b[39;49;00m\u001b[33;43m, enter your move row (0-\u001b[39;49m\u001b[38;5;132;43;01m{\u001b[39;49;00m\u001b[43mboard\u001b[49m\u001b[43m.\u001b[49m\u001b[43mnumber_of_rows\u001b[49m\u001b[38;5;250;43m \u001b[39;49m\u001b[43m-\u001b[49m\u001b[38;5;250;43m \u001b[39;49m\u001b[32;43m1\u001b[39;49m\u001b[38;5;132;43;01m}\u001b[39;49;00m\u001b[33;43m): \u001b[39;49m\u001b[33;43m\"\u001b[39;49m\u001b[43m)\u001b[49m\u001b[43m)\u001b[49m\n\u001b[32m     53\u001b[39m   col = \u001b[38;5;28mint\u001b[39m(\u001b[38;5;28minput\u001b[39m(\u001b[33mf\u001b[39m\u001b[33m\"\u001b[39m\u001b[33mPlayer \u001b[39m\u001b[38;5;132;01m{\u001b[39;00mboard.current_player\u001b[38;5;132;01m}\u001b[39;00m\u001b[33m, enter your move column (0-\u001b[39m\u001b[38;5;132;01m{\u001b[39;00mboard.number_of_columns\u001b[38;5;250m \u001b[39m-\u001b[38;5;250m \u001b[39m\u001b[32m1\u001b[39m\u001b[38;5;132;01m}\u001b[39;00m\u001b[33m): \u001b[39m\u001b[33m\"\u001b[39m))\n\u001b[32m     54\u001b[39m   move = row * board.number_of_columns + col\n",
      "\u001b[31mValueError\u001b[39m: invalid literal for int() with base 10: ''"
     ]
    }
   ],
   "source": [
    "# play game with AI\n",
    "from utils.caro_play_simulation import CaroPlaySimulation\n",
    "\n",
    "CaroPlaySimulation.play_game(size=10, trained_model_path=\"trained/caronet_weights_1760763011.pth\")"
   ]
  }
 ],
 "metadata": {
  "kernelspec": {
   "display_name": "venv",
   "language": "python",
   "name": "python3"
  },
  "language_info": {
   "codemirror_mode": {
    "name": "ipython",
    "version": 3
   },
   "file_extension": ".py",
   "mimetype": "text/x-python",
   "name": "python",
   "nbconvert_exporter": "python",
   "pygments_lexer": "ipython3",
   "version": "3.12.4"
  }
 },
 "nbformat": 4,
 "nbformat_minor": 5
}
