{
 "cells": [
  {
   "cell_type": "code",
   "execution_count": null,
   "id": "fad7e403",
   "metadata": {},
   "outputs": [],
   "source": [
    "from game_board import GameBoard\n",
    "\n",
    "\n",
    "board = GameBoard(number_of_rows=3, number_of_columns=3, number_to_win=3)\n",
    "print(board)\n",
    "is_over = board.move(0)\n",
    "if not is_over:\n",
    "  is_over = board.move(3)\n",
    "if not is_over:\n",
    "  is_over = board.move(1)\n",
    "if not is_over:\n",
    "  is_over = board.move(6)\n",
    "if not is_over:\n",
    "  is_over = board.move(2)\n",
    "print(board)\n",
    "board.print_win_state()"
   ]
  },
  {
   "cell_type": "code",
   "execution_count": null,
   "id": "507d0259",
   "metadata": {},
   "outputs": [],
   "source": [
    "import random\n",
    "from game_board import GameBoard\n",
    "from mcts_player import MCTSPlayer\n",
    "\n",
    "def play_game():\n",
    "  board = GameBoard(number_of_rows=10, number_of_columns=10, number_to_win=5)\n",
    "  mcts = MCTSPlayer(num_simulations=300)\n",
    "  print(f\"=== Caro ({board.number_of_rows}x{board.number_of_columns}) Demo: MCTS vs Random ===\")\n",
    "  print(board)\n",
    "\n",
    "  while not board.is_terminal():\n",
    "    if board.current_player == 1:\n",
    "      # MCTS plays\n",
    "      print(\"MCTS thinking...\")\n",
    "      move = mcts.run(board)\n",
    "      if move is None:\n",
    "        print(\"No move possible (draw).\")\n",
    "        break\n",
    "    else:\n",
    "      # Random plays\n",
    "      move = random.choice(board.get_legal_moves())\n",
    "\n",
    "    board.move(move)\n",
    "    print(f\"\\nPlayer {board.current_player} made move at index {move}\")\n",
    "    # print(board)\n",
    "\n",
    "    # check if someone won\n",
    "    if len(board.winMode[\"winMode\"]) > 0:\n",
    "      print(board)\n",
    "      board.print_win_state()\n",
    "      break\n",
    "    elif len(board.steps) == board.number_of_rows * board.number_of_columns:\n",
    "      print(\"It's a draw!\")\n",
    "      break\n",
    "\n",
    "play_game()"
   ]
  }
 ],
 "metadata": {
  "kernelspec": {
   "display_name": "venv",
   "language": "python",
   "name": "python3"
  },
  "language_info": {
   "codemirror_mode": {
    "name": "ipython",
    "version": 3
   },
   "file_extension": ".py",
   "mimetype": "text/x-python",
   "name": "python",
   "nbconvert_exporter": "python",
   "pygments_lexer": "ipython3",
   "version": "3.12.4"
  }
 },
 "nbformat": 4,
 "nbformat_minor": 5
}
