{
 "cells": [
  {
   "cell_type": "code",
   "execution_count": null,
   "id": "fad7e403",
   "metadata": {},
   "outputs": [],
   "source": [
    "from game_board import GameBoard\n",
    "\n",
    "\n",
    "board = GameBoard(number_of_rows=3, number_of_columns=3, number_to_win=3)\n",
    "is_over = board.move(0)\n",
    "if not is_over:\n",
    "  is_over = board.move(3)\n",
    "if not is_over:\n",
    "  is_over = board.move(1)\n",
    "if not is_over:\n",
    "  is_over = board.move(6)\n",
    "if not is_over:\n",
    "  is_over = board.move(2)\n",
    "print(board)\n",
    "board.print_win_state()"
   ]
  },
  {
   "cell_type": "code",
   "execution_count": null,
   "id": "507d0259",
   "metadata": {},
   "outputs": [],
   "source": [
    "# play random game\n",
    "from utils.caro_play_simulation import CaroPlaySimulation\n",
    "\n",
    "CaroPlaySimulation.play_random_game()"
   ]
  },
  {
   "cell_type": "code",
   "execution_count": null,
   "id": "9e9176e6",
   "metadata": {},
   "outputs": [],
   "source": [
    "# play game\n",
    "from utils.caro_play_simulation import CaroPlaySimulation\n",
    "\n",
    "CaroPlaySimulation.play_game()"
   ]
  },
  {
   "cell_type": "code",
   "execution_count": null,
   "id": "a0a38638",
   "metadata": {},
   "outputs": [],
   "source": [
    "# play mcts vs mcts\n",
    "from utils.caro_play_simulation import CaroPlaySimulation\n",
    "\n",
    "CaroPlaySimulation.play_mcts_game()"
   ]
  }
 ],
 "metadata": {
  "kernelspec": {
   "display_name": "venv",
   "language": "python",
   "name": "python3"
  },
  "language_info": {
   "codemirror_mode": {
    "name": "ipython",
    "version": 3
   },
   "file_extension": ".py",
   "mimetype": "text/x-python",
   "name": "python",
   "nbconvert_exporter": "python",
   "pygments_lexer": "ipython3",
   "version": "3.12.4"
  }
 },
 "nbformat": 4,
 "nbformat_minor": 5
}
