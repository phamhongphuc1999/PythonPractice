{
 "cells": [
  {
   "cell_type": "code",
   "execution_count": 1,
   "id": "fad7e403",
   "metadata": {},
   "outputs": [
    {
     "name": "stdout",
     "output_type": "stream",
     "text": [
      "--------------------------\n",
      " 0  0  0  0  0  0  0  0  0  0 \n",
      " 0  0  0  0  0  0  0  0  0  0 \n",
      " 0  0  0  0  0  0  0  0  0  0 \n",
      " 0  0  0  0  0  0  0  0  0  0 \n",
      " 0  0  0  0  0  0  0  0  0  0 \n",
      " 0  0  0  0  0  0  0  0  0  0 \n",
      " 0  0  0  0  0  0  0  0  0  0 \n",
      " 0  0  0  0  0  0  0  0  0  0 \n",
      " 0  0  0  0  0  0  0  0  0  0 \n",
      " 0  0  0  0  0  0  0  0  0  0 \n",
      "--------------------------\n",
      "_win_state_win_state {'locations': {}, 'winMode': []}\n",
      "_win_state_win_state {'locations': {}, 'winMode': []}\n",
      "_win_state_win_state {'locations': {}, 'winMode': []}\n",
      "_win_state_win_state {'locations': {}, 'winMode': []}\n",
      "_win_state_win_state {'locations': {}, 'winMode': []}\n",
      "_win_state_win_state {'locations': {}, 'winMode': []}\n",
      "_win_state_win_state {'locations': {}, 'winMode': []}\n",
      "_win_state_win_state {'locations': {}, 'winMode': []}\n",
      "_win_state_win_state {'locations': {3: {'horizontal': True}, 2: {'horizontal': True}, 1: {'horizontal': True}, 0: {'horizontal': True}, 4: {'horizontal': True}}, 'winMode': [<CaroWinType.HORIZONTAL: 'horizontal'>]}\n",
      "--------------------------\n",
      " 1  1  1  1  1  0  0  0  0  0 \n",
      " 0  0  0  0  0  0  0  0  0  0 \n",
      " 0  0  0  0  0  0  0  0  0  0 \n",
      " 0  0  0  0  0  0  0  0  0  0 \n",
      " 0  0  0  0  0  2  0  0  0  0 \n",
      " 2  2  0  0  0  0  0  0  0  0 \n",
      " 2  0  0  0  0  0  0  0  0  0 \n",
      " 0  0  0  0  0  0  0  0  0  0 \n",
      " 0  0  0  0  0  0  0  0  0  0 \n",
      " 0  0  0  0  0  0  0  0  0  0 \n",
      "--------------------------\n",
      "Winning positions: {'locations': {3: {'horizontal': True}, 2: {'horizontal': True}, 1: {'horizontal': True}, 0: {'horizontal': True}, 4: {'horizontal': True}}, 'winMode': [<CaroWinType.HORIZONTAL: 'horizontal'>]}\n",
      "Player 1 wins!\n",
      "Winning modes: [<CaroWinType.HORIZONTAL: 'horizontal'>]\n"
     ]
    }
   ],
   "source": [
    "from game_board import GameBoard\n",
    "\n",
    "\n",
    "board = GameBoard(number_of_rows=10, number_of_columns=10)\n",
    "board.draw_board()\n",
    "is_over = board.move(0)\n",
    "if not is_over:\n",
    "  is_over = board.move(50)\n",
    "if not is_over:\n",
    "  is_over = board.move(1)\n",
    "if not is_over:\n",
    "  is_over = board.move(45)\n",
    "if not is_over:\n",
    "  is_over = board.move(2)\n",
    "if not is_over:\n",
    "  is_over = board.move(51)\n",
    "if not is_over:\n",
    "  is_over = board.move(3)\n",
    "if not is_over:\n",
    "  is_over = board.move(60)\n",
    "if not is_over:\n",
    "  is_over = board.move(4)\n",
    "board.draw_board()\n",
    "board.print_win_state()"
   ]
  }
 ],
 "metadata": {
  "kernelspec": {
   "display_name": "venv",
   "language": "python",
   "name": "python3"
  },
  "language_info": {
   "codemirror_mode": {
    "name": "ipython",
    "version": 3
   },
   "file_extension": ".py",
   "mimetype": "text/x-python",
   "name": "python",
   "nbconvert_exporter": "python",
   "pygments_lexer": "ipython3",
   "version": "3.12.4"
  }
 },
 "nbformat": 4,
 "nbformat_minor": 5
}
