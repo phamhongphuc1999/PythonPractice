{
 "cells": [
  {
   "cell_type": "code",
   "execution_count": null,
   "id": "7aacbdf4",
   "metadata": {},
   "outputs": [],
   "source": [
    "from utils.caro_prepare_training import CaroPrepareTraining\n",
    "\n",
    "number_of_rows = 10\n",
    "number_of_columns = 10\n",
    "\n",
    "X, Y_policy, Y_value, data = CaroPrepareTraining.prepare_training_data(number_of_rows, number_of_columns, num_games=10)\n"
   ]
  },
  {
   "cell_type": "code",
   "execution_count": null,
   "id": "2e873c39",
   "metadata": {},
   "outputs": [],
   "source": [
    "import torch\n",
    "from torch.utils.data import TensorDataset, DataLoader\n",
    "import torch.optim as optim\n",
    "\n",
    "from caro_net import CaroNet\n",
    "\n",
    "\n",
    "X_tensor = torch.tensor(X, dtype=torch.float32)\n",
    "Y_policy_tensor = torch.tensor(Y_policy, dtype=torch.float32)\n",
    "Y_value_tensor = torch.tensor(Y_value, dtype=torch.float32)\n",
    "\n",
    "dataset = TensorDataset(X_tensor, Y_policy_tensor, Y_value_tensor)\n",
    "loader = DataLoader(dataset, batch_size=32, shuffle=True)\n",
    "\n",
    "model = CaroNet(number_of_rows, number_of_columns)\n",
    "optimizer = optim.Adam(model.parameters(), lr=1e-3)\n",
    "\n",
    "device = torch.device(\"cuda\" if torch.cuda.is_available() else \"cpu\")\n",
    "model.to(device)"
   ]
  },
  {
   "cell_type": "code",
   "execution_count": null,
   "id": "16a8e523",
   "metadata": {},
   "outputs": [],
   "source": [
    "import time\n",
    "import torch.nn.functional as F\n",
    "\n",
    "num_epochs = 20\n",
    "\n",
    "for epoch in range(num_epochs):\n",
    "  model.train()\n",
    "  total_loss = 0\n",
    "  for X_batch, Yp_batch, Yv_batch in loader:\n",
    "    X_batch = X_batch.to(device)\n",
    "    Yp_batch = Yp_batch.to(device)\n",
    "    Yv_batch = Yv_batch.to(device)\n",
    "\n",
    "    policy_pred, value_pred = model(X_batch)\n",
    "\n",
    "    policy_loss = -(Yp_batch * policy_pred).sum(dim=1).mean()\n",
    "    value_loss = F.mse_loss(value_pred, Yv_batch)\n",
    "    loss = policy_loss + value_loss\n",
    "\n",
    "    optimizer.zero_grad()\n",
    "    loss.backward()\n",
    "    optimizer.step()\n",
    "\n",
    "    total_loss += loss.item()\n",
    "  \n",
    "  print(f\"Epoch {epoch+1}/{num_epochs} - Loss: {total_loss/len(loader):.4f}\")\n",
    "\n",
    "torch.save(model.state_dict(), f\"trained/caronet_weights_{time.time()}.pth\")\n",
    "print(\"✅ Training finished!\")"
   ]
  },
  {
   "cell_type": "code",
   "execution_count": null,
   "id": "131d51e0",
   "metadata": {},
   "outputs": [],
   "source": [
    "model = CaroNet(number_of_rows, number_of_columns)\n",
    "model.load_state_dict(torch.load(\"trained/caronet_weights_1760758201.407465.pth\"))\n",
    "model.eval()"
   ]
  }
 ],
 "metadata": {
  "kernelspec": {
   "display_name": "venv",
   "language": "python",
   "name": "python3"
  },
  "language_info": {
   "codemirror_mode": {
    "name": "ipython",
    "version": 3
   },
   "file_extension": ".py",
   "mimetype": "text/x-python",
   "name": "python",
   "nbconvert_exporter": "python",
   "pygments_lexer": "ipython3",
   "version": "3.12.4"
  }
 },
 "nbformat": 4,
 "nbformat_minor": 5
}
