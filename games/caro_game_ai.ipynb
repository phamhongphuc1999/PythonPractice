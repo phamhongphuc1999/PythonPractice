{
 "cells": [
  {
   "cell_type": "code",
   "execution_count": 1,
   "id": "7aacbdf4",
   "metadata": {},
   "outputs": [
    {
     "ename": "ValueError",
     "evalue": "too many values to unpack (expected 2)",
     "output_type": "error",
     "traceback": [
      "\u001b[31m---------------------------------------------------------------------------\u001b[39m",
      "\u001b[31mValueError\u001b[39m                                Traceback (most recent call last)",
      "\u001b[36mCell\u001b[39m\u001b[36m \u001b[39m\u001b[32mIn[1]\u001b[39m\u001b[32m, line 10\u001b[39m\n\u001b[32m      7\u001b[39m size=\u001b[32m10\u001b[39m\n\u001b[32m      8\u001b[39m trained_model_path=\u001b[33m\"\u001b[39m\u001b[33mtrained/caronet_weights_1760763011.pth\u001b[39m\u001b[33m\"\u001b[39m\n\u001b[32m---> \u001b[39m\u001b[32m10\u001b[39m X, Y_policy, Y_value, data = \u001b[43mCaroPrepareTraining\u001b[49m\u001b[43m.\u001b[49m\u001b[43mprepare_training_data\u001b[49m\u001b[43m(\u001b[49m\u001b[43mnumber_of_rows\u001b[49m\u001b[43m,\u001b[49m\u001b[43m \u001b[49m\u001b[43mnumber_of_columns\u001b[49m\u001b[43m,\u001b[49m\u001b[43m \u001b[49m\u001b[43msize\u001b[49m\u001b[43m,\u001b[49m\u001b[43m \u001b[49m\u001b[43mtrained_model_path\u001b[49m\u001b[43m,\u001b[49m\u001b[43m \u001b[49m\u001b[43mnum_games\u001b[49m\u001b[43m=\u001b[49m\u001b[32;43m10\u001b[39;49m\u001b[43m)\u001b[49m\n",
      "\u001b[36mFile \u001b[39m\u001b[32m~/Documents/personal/PythonPractice/games/utils/caro_prepare_training.py:56\u001b[39m, in \u001b[36mCaroPrepareTraining.prepare_training_data\u001b[39m\u001b[34m(number_of_rows, number_of_columns, size, trained_model_path, number_to_win, num_games)\u001b[39m\n\u001b[32m     54\u001b[39m \u001b[38;5;129m@staticmethod\u001b[39m\n\u001b[32m     55\u001b[39m \u001b[38;5;28;01mdef\u001b[39;00m\u001b[38;5;250m \u001b[39m\u001b[34mprepare_training_data\u001b[39m(number_of_rows: \u001b[38;5;28mint\u001b[39m, number_of_columns: \u001b[38;5;28mint\u001b[39m, size: Literal[\u001b[32m10\u001b[39m, \u001b[32m20\u001b[39m], trained_model_path: \u001b[38;5;28mstr\u001b[39m, number_to_win = \u001b[32m5\u001b[39m, num_games = \u001b[32m10\u001b[39m):\n\u001b[32m---> \u001b[39m\u001b[32m56\u001b[39m   data = \u001b[43mCaroPrepareTraining\u001b[49m\u001b[43m.\u001b[49m\u001b[43mself_play\u001b[49m\u001b[43m(\u001b[49m\u001b[43mnumber_of_rows\u001b[49m\u001b[43m,\u001b[49m\u001b[43m \u001b[49m\u001b[43mnumber_of_columns\u001b[49m\u001b[43m,\u001b[49m\u001b[43m \u001b[49m\u001b[43msize\u001b[49m\u001b[43m,\u001b[49m\u001b[43m \u001b[49m\u001b[43mtrained_model_path\u001b[49m\u001b[43m,\u001b[49m\u001b[43m \u001b[49m\u001b[43mnumber_to_win\u001b[49m\u001b[43m=\u001b[49m\u001b[43mnumber_to_win\u001b[49m\u001b[43m,\u001b[49m\u001b[43m \u001b[49m\u001b[43mnum_games\u001b[49m\u001b[43m=\u001b[49m\u001b[43mnum_games\u001b[49m\u001b[43m)\u001b[49m\n\u001b[32m     58\u001b[39m   X = np.array([board_to_tensor(number_of_rows, number_of_columns, d[\u001b[33m\"\u001b[39m\u001b[33msteps\u001b[39m\u001b[33m\"\u001b[39m], d[\u001b[33m\"\u001b[39m\u001b[33mplayer\u001b[39m\u001b[33m\"\u001b[39m]) \u001b[38;5;28;01mfor\u001b[39;00m d \u001b[38;5;129;01min\u001b[39;00m data])\n\u001b[32m     59\u001b[39m   Y_policy = np.array([d[\u001b[33m\"\u001b[39m\u001b[33mpolicy\u001b[39m\u001b[33m\"\u001b[39m] \u001b[38;5;28;01mfor\u001b[39;00m d \u001b[38;5;129;01min\u001b[39;00m data])\n",
      "\u001b[36mFile \u001b[39m\u001b[32m~/Documents/personal/PythonPractice/games/utils/caro_prepare_training.py:35\u001b[39m, in \u001b[36mCaroPrepareTraining.self_play\u001b[39m\u001b[34m(number_of_rows, number_of_columns, size, trained_model_path, number_to_win, num_games)\u001b[39m\n\u001b[32m     33\u001b[39m mcts = MctsCnnPlayer(size, trained_model_path, num_simulations=\u001b[32m100\u001b[39m)\n\u001b[32m     34\u001b[39m \u001b[38;5;28;01mwhile\u001b[39;00m \u001b[38;5;129;01mnot\u001b[39;00m board.is_terminal():\n\u001b[32m---> \u001b[39m\u001b[32m35\u001b[39m   action = \u001b[43mmcts\u001b[49m\u001b[43m.\u001b[49m\u001b[43mrun\u001b[49m\u001b[43m(\u001b[49m\u001b[43mboard\u001b[49m\u001b[43m)\u001b[49m\n\u001b[32m     36\u001b[39m   board.move(action)\n\u001b[32m     37\u001b[39m \u001b[38;5;28;01mif\u001b[39;00m \u001b[38;5;28mlen\u001b[39m(board.winMode[\u001b[33m\"\u001b[39m\u001b[33mwinMode\u001b[39m\u001b[33m\"\u001b[39m]) > \u001b[32m0\u001b[39m:\n",
      "\u001b[36mFile \u001b[39m\u001b[32m~/Documents/personal/PythonPractice/games/mcts_cnn_player.py:26\u001b[39m, in \u001b[36mMctsCnnPlayer.run\u001b[39m\u001b[34m(self, root_state)\u001b[39m\n\u001b[32m     23\u001b[39m   node = node.best_ai_child(\u001b[38;5;28mself\u001b[39m.c_param)\n\u001b[32m     25\u001b[39m \u001b[38;5;66;03m# 2. Evaluation (use NN)\u001b[39;00m\n\u001b[32m---> \u001b[39m\u001b[32m26\u001b[39m policy, value = \u001b[38;5;28mself\u001b[39m.evaluate(node.state)\n\u001b[32m     28\u001b[39m \u001b[38;5;66;03m# 3. Expansion (add NN policy to children)\u001b[39;00m\n\u001b[32m     29\u001b[39m \u001b[38;5;28;01mif\u001b[39;00m \u001b[38;5;129;01mnot\u001b[39;00m node.state.is_terminal():\n",
      "\u001b[31mValueError\u001b[39m: too many values to unpack (expected 2)"
     ]
    }
   ],
   "source": [
    "# Prepare training data\n",
    "\n",
    "from utils.caro_prepare_training import CaroPrepareTraining\n",
    "\n",
    "number_of_rows = 10\n",
    "number_of_columns = 10\n",
    "size=10\n",
    "trained_model_path=\"trained/caronet_weights_1760763011.pth\"\n",
    "\n",
    "X, Y_policy, Y_value, data = CaroPrepareTraining.prepare_training_data(number_of_rows, number_of_columns, size, trained_model_path, num_games=10)\n"
   ]
  },
  {
   "cell_type": "code",
   "execution_count": null,
   "id": "2e873c39",
   "metadata": {},
   "outputs": [],
   "source": [
    "# Create model\n",
    "\n",
    "import torch\n",
    "from torch.utils.data import TensorDataset, DataLoader\n",
    "import torch.optim as optim\n",
    "\n",
    "from caro_net import CaroNet\n",
    "\n",
    "X_tensor = torch.tensor(X, dtype=torch.float32)\n",
    "Y_policy_tensor = torch.tensor(Y_policy, dtype=torch.float32)\n",
    "Y_value_tensor = torch.tensor(Y_value, dtype=torch.float32)\n",
    "\n",
    "dataset = TensorDataset(X_tensor, Y_policy_tensor, Y_value_tensor)\n",
    "loader = DataLoader(dataset, batch_size=32, shuffle=True)\n",
    "\n",
    "model = CaroNet(number_of_rows, number_of_columns)\n",
    "optimizer = optim.Adam(model.parameters(), lr=1e-3)\n",
    "\n",
    "device = torch.device(\"cuda\" if torch.cuda.is_available() else \"cpu\")\n",
    "model.to(device)"
   ]
  },
  {
   "cell_type": "code",
   "execution_count": null,
   "id": "16a8e523",
   "metadata": {},
   "outputs": [],
   "source": [
    "# Training...\n",
    "\n",
    "import math\n",
    "import time\n",
    "import torch.nn.functional as F\n",
    "\n",
    "num_epochs = 20\n",
    "\n",
    "for epoch in range(num_epochs):\n",
    "  model.train()\n",
    "  total_loss = 0\n",
    "  for X_batch, Yp_batch, Yv_batch in loader:\n",
    "    X_batch = X_batch.to(device)\n",
    "    Yp_batch = Yp_batch.to(device)\n",
    "    Yv_batch = Yv_batch.to(device)\n",
    "\n",
    "    policy_pred, value_pred = model(X_batch)\n",
    "\n",
    "    policy_loss = -(Yp_batch * policy_pred).sum(dim=1).mean()\n",
    "    value_loss = F.mse_loss(value_pred, Yv_batch)\n",
    "    loss = policy_loss + value_loss\n",
    "\n",
    "    optimizer.zero_grad()\n",
    "    loss.backward()\n",
    "    optimizer.step()\n",
    "\n",
    "    total_loss += loss.item()\n",
    "  \n",
    "  print(f\"Epoch {epoch+1}/{num_epochs} - Loss: {total_loss/len(loader):.4f}\")\n",
    "\n",
    "torch.save(model.state_dict(), f\"trained/caronet_weights_{math.floor(time.time())}.pth\")\n",
    "print(\"✅ Training finished!\")"
   ]
  },
  {
   "cell_type": "code",
   "execution_count": null,
   "id": "131d51e0",
   "metadata": {},
   "outputs": [],
   "source": [
    "# Load trained model\n",
    "\n",
    "model = CaroNet(number_of_rows, number_of_columns)\n",
    "model.load_state_dict(torch.load(\"trained/caronet_weights_1760763011.pth\"))\n",
    "model.eval()"
   ]
  }
 ],
 "metadata": {
  "kernelspec": {
   "display_name": "venv",
   "language": "python",
   "name": "python3"
  },
  "language_info": {
   "codemirror_mode": {
    "name": "ipython",
    "version": 3
   },
   "file_extension": ".py",
   "mimetype": "text/x-python",
   "name": "python",
   "nbconvert_exporter": "python",
   "pygments_lexer": "ipython3",
   "version": "3.12.4"
  }
 },
 "nbformat": 4,
 "nbformat_minor": 5
}
